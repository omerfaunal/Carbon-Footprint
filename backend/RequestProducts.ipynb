{
 "cells": [
  {
   "cell_type": "code",
   "execution_count": 36,
   "id": "e95056a0",
   "metadata": {},
   "outputs": [],
   "source": [
    "import requests as rq\n",
    "import re\n",
    "import json"
   ]
  },
  {
   "cell_type": "code",
   "execution_count": 25,
   "id": "e1b278a3",
   "metadata": {},
   "outputs": [],
   "source": [
    "def take_data(data_type):\n",
    "\n",
    "    page_list=[]\n",
    "\n",
    "    r_temp=rq.get(\"https://www.migros.com.tr/rest/search/screens/{}?sayfa=1\".format(data_type))\n",
    "    j=1\n",
    "    while(j<r_temp.json()[\"data\"][\"searchInfo\"][\"pageCount\"]+1):\n",
    "        response=rq.get(\"https://www.migros.com.tr/rest/search/screens/{}?sayfa={}\".format(data_type,j))\n",
    "        for i in range(len(response.json()[\"data\"][\"searchInfo\"][\"storeProductInfos\"])):\n",
    "            page_list.append(response.json()[\"data\"][\"searchInfo\"][\"storeProductInfos\"][i][\"name\"])\n",
    "        j=j+1\n",
    "    \n",
    "    return page_list"
   ]
  },
  {
   "cell_type": "code",
   "execution_count": null,
   "id": "90327a43",
   "metadata": {
    "pycharm": {
     "is_executing": true
    }
   },
   "outputs": [],
   "source": [
    "datas={\"meyve-sebze-c-2\":[],\"et-tavuk-balik-c-3\":[],\"sut-kahvaltilik-c-4\":[],\"temel-gida-c-5\":[],\"meze-hazir-yemek-donuk-c-7d\":[],\"firin-pastane-c-7e\":[],\"dondurma-c-41b\":[],\"atistirmalik-c-113fb\":[],\"icecek-c-6\":[],\"deterjan-temizlik-c-7\":[],\"kisisel-bakim-kozmetik-c-8\":[],\"bebek-c-9\":[],\"ev-yasam-c-a\":[],\"kitap-kirtasiye-oyuncak-c-118ec\":[],\"cicek-c-502\":[],\"pet-shop-c-a0\":[],\"elektronik-c-a6\":[]}\n",
    "\n",
    "for i in datas.keys():\n",
    "    datas[i]=take_data(i)\n"
   ]
  },
  {
   "cell_type": "code",
   "execution_count": null,
   "outputs": [],
   "source": [
    "last_datas={}\n",
    "for i in datas.keys():\n",
    "    last_datas[re.sub(\"(-c).*\",\"\",i)]=datas[i]\n",
    "\n",
    "\n"
   ],
   "metadata": {
    "collapsed": false,
    "pycharm": {
     "name": "#%%\n"
    }
   }
  },
  {
   "cell_type": "code",
   "execution_count": 38,
   "id": "a0c956a2",
   "metadata": {
    "pycharm": {
     "name": "#%%\n"
    }
   },
   "outputs": [],
   "source": [
    "json.dump(last_datas, open(\"save.json\",\"w\"))"
   ]
  }
 ],
 "metadata": {
  "kernelspec": {
   "display_name": "Python 3 (ipykernel)",
   "language": "python",
   "name": "python3"
  },
  "language_info": {
   "codemirror_mode": {
    "name": "ipython",
    "version": 3
   },
   "file_extension": ".py",
   "mimetype": "text/x-python",
   "name": "python",
   "nbconvert_exporter": "python",
   "pygments_lexer": "ipython3",
   "version": "3.9.7"
  }
 },
 "nbformat": 4,
 "nbformat_minor": 5
}